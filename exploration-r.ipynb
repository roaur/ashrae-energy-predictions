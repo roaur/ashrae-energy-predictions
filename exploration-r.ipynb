{
 "cells": [
  {
   "cell_type": "markdown",
   "metadata": {},
   "source": [
    "# Ashrae Energy Predictions\n",
    "\n",
    "Kaggle Competition from "
   ]
  },
  {
   "cell_type": "code",
   "execution_count": 6,
   "metadata": {},
   "outputs": [],
   "source": [
    "df = read.csv(file = '/home/roman/evo/datasets/ashrae-energy-prediction/ashrae-energy-prediction/train.csv', header = TRUE)\n",
    "weather = read.csv(file = '/home/roman/evo/datasets/ashrae-energy-prediction/ashrae-energy-prediction/weather_train.csv', header=TRUE)\n",
    "building_meta = read.csv(file = '/home/roman/evo/datasets/ashrae-energy-prediction/ashrae-energy-prediction/building_metadata.csv', header=TRUE)"
   ]
  },
  {
   "cell_type": "code",
   "execution_count": 7,
   "metadata": {},
   "outputs": [
    {
     "data": {
      "text/html": [
       "<table>\n",
       "<thead><tr><th scope=col>building_id</th><th scope=col>meter</th><th scope=col>timestamp</th><th scope=col>meter_reading</th></tr></thead>\n",
       "<tbody>\n",
       "\t<tr><td>0                  </td><td>0                  </td><td>2016-01-01 00:00:00</td><td>0                  </td></tr>\n",
       "\t<tr><td>1                  </td><td>0                  </td><td>2016-01-01 00:00:00</td><td>0                  </td></tr>\n",
       "\t<tr><td>2                  </td><td>0                  </td><td>2016-01-01 00:00:00</td><td>0                  </td></tr>\n",
       "\t<tr><td>3                  </td><td>0                  </td><td>2016-01-01 00:00:00</td><td>0                  </td></tr>\n",
       "\t<tr><td>4                  </td><td>0                  </td><td>2016-01-01 00:00:00</td><td>0                  </td></tr>\n",
       "\t<tr><td>5                  </td><td>0                  </td><td>2016-01-01 00:00:00</td><td>0                  </td></tr>\n",
       "</tbody>\n",
       "</table>\n"
      ],
      "text/latex": [
       "\\begin{tabular}{r|llll}\n",
       " building\\_id & meter & timestamp & meter\\_reading\\\\\n",
       "\\hline\n",
       "\t 0                   & 0                   & 2016-01-01 00:00:00 & 0                  \\\\\n",
       "\t 1                   & 0                   & 2016-01-01 00:00:00 & 0                  \\\\\n",
       "\t 2                   & 0                   & 2016-01-01 00:00:00 & 0                  \\\\\n",
       "\t 3                   & 0                   & 2016-01-01 00:00:00 & 0                  \\\\\n",
       "\t 4                   & 0                   & 2016-01-01 00:00:00 & 0                  \\\\\n",
       "\t 5                   & 0                   & 2016-01-01 00:00:00 & 0                  \\\\\n",
       "\\end{tabular}\n"
      ],
      "text/markdown": [
       "\n",
       "| building_id | meter | timestamp | meter_reading |\n",
       "|---|---|---|---|\n",
       "| 0                   | 0                   | 2016-01-01 00:00:00 | 0                   |\n",
       "| 1                   | 0                   | 2016-01-01 00:00:00 | 0                   |\n",
       "| 2                   | 0                   | 2016-01-01 00:00:00 | 0                   |\n",
       "| 3                   | 0                   | 2016-01-01 00:00:00 | 0                   |\n",
       "| 4                   | 0                   | 2016-01-01 00:00:00 | 0                   |\n",
       "| 5                   | 0                   | 2016-01-01 00:00:00 | 0                   |\n",
       "\n"
      ],
      "text/plain": [
       "  building_id meter timestamp           meter_reading\n",
       "1 0           0     2016-01-01 00:00:00 0            \n",
       "2 1           0     2016-01-01 00:00:00 0            \n",
       "3 2           0     2016-01-01 00:00:00 0            \n",
       "4 3           0     2016-01-01 00:00:00 0            \n",
       "5 4           0     2016-01-01 00:00:00 0            \n",
       "6 5           0     2016-01-01 00:00:00 0            "
      ]
     },
     "metadata": {},
     "output_type": "display_data"
    }
   ],
   "source": [
    "head(df)"
   ]
  },
  {
   "cell_type": "code",
   "execution_count": 8,
   "metadata": {},
   "outputs": [
    {
     "data": {
      "text/html": [
       "<table>\n",
       "<thead><tr><th scope=col>site_id</th><th scope=col>timestamp</th><th scope=col>air_temperature</th><th scope=col>cloud_coverage</th><th scope=col>dew_temperature</th><th scope=col>precip_depth_1_hr</th><th scope=col>sea_level_pressure</th><th scope=col>wind_direction</th><th scope=col>wind_speed</th></tr></thead>\n",
       "<tbody>\n",
       "\t<tr><td>0                  </td><td>2016-01-01 00:00:00</td><td>25.0               </td><td> 6                 </td><td>20.0               </td><td>NA                 </td><td>1019.7             </td><td>  0                </td><td>0.0                </td></tr>\n",
       "\t<tr><td>0                  </td><td>2016-01-01 01:00:00</td><td>24.4               </td><td>NA                 </td><td>21.1               </td><td>-1                 </td><td>1020.2             </td><td> 70                </td><td>1.5                </td></tr>\n",
       "\t<tr><td>0                  </td><td>2016-01-01 02:00:00</td><td>22.8               </td><td> 2                 </td><td>21.1               </td><td> 0                 </td><td>1020.2             </td><td>  0                </td><td>0.0                </td></tr>\n",
       "\t<tr><td>0                  </td><td>2016-01-01 03:00:00</td><td>21.1               </td><td> 2                 </td><td>20.6               </td><td> 0                 </td><td>1020.1             </td><td>  0                </td><td>0.0                </td></tr>\n",
       "\t<tr><td>0                  </td><td>2016-01-01 04:00:00</td><td>20.0               </td><td> 2                 </td><td>20.0               </td><td>-1                 </td><td>1020.0             </td><td>250                </td><td>2.6                </td></tr>\n",
       "\t<tr><td>0                  </td><td>2016-01-01 05:00:00</td><td>19.4               </td><td>NA                 </td><td>19.4               </td><td> 0                 </td><td>    NA             </td><td>  0                </td><td>0.0                </td></tr>\n",
       "</tbody>\n",
       "</table>\n"
      ],
      "text/latex": [
       "\\begin{tabular}{r|lllllllll}\n",
       " site\\_id & timestamp & air\\_temperature & cloud\\_coverage & dew\\_temperature & precip\\_depth\\_1\\_hr & sea\\_level\\_pressure & wind\\_direction & wind\\_speed\\\\\n",
       "\\hline\n",
       "\t 0                   & 2016-01-01 00:00:00 & 25.0                &  6                  & 20.0                & NA                  & 1019.7              &   0                 & 0.0                \\\\\n",
       "\t 0                   & 2016-01-01 01:00:00 & 24.4                & NA                  & 21.1                & -1                  & 1020.2              &  70                 & 1.5                \\\\\n",
       "\t 0                   & 2016-01-01 02:00:00 & 22.8                &  2                  & 21.1                &  0                  & 1020.2              &   0                 & 0.0                \\\\\n",
       "\t 0                   & 2016-01-01 03:00:00 & 21.1                &  2                  & 20.6                &  0                  & 1020.1              &   0                 & 0.0                \\\\\n",
       "\t 0                   & 2016-01-01 04:00:00 & 20.0                &  2                  & 20.0                & -1                  & 1020.0              & 250                 & 2.6                \\\\\n",
       "\t 0                   & 2016-01-01 05:00:00 & 19.4                & NA                  & 19.4                &  0                  &     NA              &   0                 & 0.0                \\\\\n",
       "\\end{tabular}\n"
      ],
      "text/markdown": [
       "\n",
       "| site_id | timestamp | air_temperature | cloud_coverage | dew_temperature | precip_depth_1_hr | sea_level_pressure | wind_direction | wind_speed |\n",
       "|---|---|---|---|---|---|---|---|---|\n",
       "| 0                   | 2016-01-01 00:00:00 | 25.0                |  6                  | 20.0                | NA                  | 1019.7              |   0                 | 0.0                 |\n",
       "| 0                   | 2016-01-01 01:00:00 | 24.4                | NA                  | 21.1                | -1                  | 1020.2              |  70                 | 1.5                 |\n",
       "| 0                   | 2016-01-01 02:00:00 | 22.8                |  2                  | 21.1                |  0                  | 1020.2              |   0                 | 0.0                 |\n",
       "| 0                   | 2016-01-01 03:00:00 | 21.1                |  2                  | 20.6                |  0                  | 1020.1              |   0                 | 0.0                 |\n",
       "| 0                   | 2016-01-01 04:00:00 | 20.0                |  2                  | 20.0                | -1                  | 1020.0              | 250                 | 2.6                 |\n",
       "| 0                   | 2016-01-01 05:00:00 | 19.4                | NA                  | 19.4                |  0                  |     NA              |   0                 | 0.0                 |\n",
       "\n"
      ],
      "text/plain": [
       "  site_id timestamp           air_temperature cloud_coverage dew_temperature\n",
       "1 0       2016-01-01 00:00:00 25.0             6             20.0           \n",
       "2 0       2016-01-01 01:00:00 24.4            NA             21.1           \n",
       "3 0       2016-01-01 02:00:00 22.8             2             21.1           \n",
       "4 0       2016-01-01 03:00:00 21.1             2             20.6           \n",
       "5 0       2016-01-01 04:00:00 20.0             2             20.0           \n",
       "6 0       2016-01-01 05:00:00 19.4            NA             19.4           \n",
       "  precip_depth_1_hr sea_level_pressure wind_direction wind_speed\n",
       "1 NA                1019.7               0            0.0       \n",
       "2 -1                1020.2              70            1.5       \n",
       "3  0                1020.2               0            0.0       \n",
       "4  0                1020.1               0            0.0       \n",
       "5 -1                1020.0             250            2.6       \n",
       "6  0                    NA               0            0.0       "
      ]
     },
     "metadata": {},
     "output_type": "display_data"
    }
   ],
   "source": [
    "head(weather)"
   ]
  },
  {
   "cell_type": "code",
   "execution_count": 10,
   "metadata": {},
   "outputs": [
    {
     "data": {
      "text/html": [
       "<table>\n",
       "<thead><tr><th scope=col>site_id</th><th scope=col>building_id</th><th scope=col>primary_use</th><th scope=col>square_feet</th><th scope=col>year_built</th><th scope=col>floor_count</th></tr></thead>\n",
       "<tbody>\n",
       "\t<tr><td>0        </td><td>0        </td><td>Education</td><td>  7432   </td><td>2008     </td><td>NA       </td></tr>\n",
       "\t<tr><td>0        </td><td>1        </td><td>Education</td><td>  2720   </td><td>2004     </td><td>NA       </td></tr>\n",
       "\t<tr><td>0        </td><td>2        </td><td>Education</td><td>  5376   </td><td>1991     </td><td>NA       </td></tr>\n",
       "\t<tr><td>0        </td><td>3        </td><td>Education</td><td> 23685   </td><td>2002     </td><td>NA       </td></tr>\n",
       "\t<tr><td>0        </td><td>4        </td><td>Education</td><td>116607   </td><td>1975     </td><td>NA       </td></tr>\n",
       "\t<tr><td>0        </td><td>5        </td><td>Education</td><td>  8000   </td><td>2000     </td><td>NA       </td></tr>\n",
       "</tbody>\n",
       "</table>\n"
      ],
      "text/latex": [
       "\\begin{tabular}{r|llllll}\n",
       " site\\_id & building\\_id & primary\\_use & square\\_feet & year\\_built & floor\\_count\\\\\n",
       "\\hline\n",
       "\t 0         & 0         & Education &   7432    & 2008      & NA       \\\\\n",
       "\t 0         & 1         & Education &   2720    & 2004      & NA       \\\\\n",
       "\t 0         & 2         & Education &   5376    & 1991      & NA       \\\\\n",
       "\t 0         & 3         & Education &  23685    & 2002      & NA       \\\\\n",
       "\t 0         & 4         & Education & 116607    & 1975      & NA       \\\\\n",
       "\t 0         & 5         & Education &   8000    & 2000      & NA       \\\\\n",
       "\\end{tabular}\n"
      ],
      "text/markdown": [
       "\n",
       "| site_id | building_id | primary_use | square_feet | year_built | floor_count |\n",
       "|---|---|---|---|---|---|\n",
       "| 0         | 0         | Education |   7432    | 2008      | NA        |\n",
       "| 0         | 1         | Education |   2720    | 2004      | NA        |\n",
       "| 0         | 2         | Education |   5376    | 1991      | NA        |\n",
       "| 0         | 3         | Education |  23685    | 2002      | NA        |\n",
       "| 0         | 4         | Education | 116607    | 1975      | NA        |\n",
       "| 0         | 5         | Education |   8000    | 2000      | NA        |\n",
       "\n"
      ],
      "text/plain": [
       "  site_id building_id primary_use square_feet year_built floor_count\n",
       "1 0       0           Education     7432      2008       NA         \n",
       "2 0       1           Education     2720      2004       NA         \n",
       "3 0       2           Education     5376      1991       NA         \n",
       "4 0       3           Education    23685      2002       NA         \n",
       "5 0       4           Education   116607      1975       NA         \n",
       "6 0       5           Education     8000      2000       NA         "
      ]
     },
     "metadata": {},
     "output_type": "display_data"
    }
   ],
   "source": [
    "head(building_meta)"
   ]
  },
  {
   "cell_type": "markdown",
   "metadata": {},
   "source": [
    "## Data Analysis"
   ]
  },
  {
   "cell_type": "markdown",
   "metadata": {},
   "source": [
    "Before we do any analysis we need to check the occurrences of null values in the datasets. If we need to impute more than 5% of that column's data then we should probably consider ignoring it as we'll be making a significant amount of the data up. We will evaluate the data by showing the number of distinct values for each column (if they're categorical) and calculate the occurrence of `NA` in those columns too."
   ]
  },
  {
   "cell_type": "code",
   "execution_count": 18,
   "metadata": {},
   "outputs": [
    {
     "ename": "ERROR",
     "evalue": "Error in `$<-.data.frame`(`*tmp*`, \"i_null\", value = 0L): replacement has 1 row, data has 0\n",
     "output_type": "error",
     "traceback": [
      "Error in `$<-.data.frame`(`*tmp*`, \"i_null\", value = 0L): replacement has 1 row, data has 0\nTraceback:\n",
      "1. `$<-`(`*tmp*`, \"i_null\", value = 0L)",
      "2. `$<-.data.frame`(`*tmp*`, \"i_null\", value = 0L)",
      "3. stop(sprintf(ngettext(N, \"replacement has %d row, data has %d\", \n .     \"replacement has %d rows, data has %d\"), N, nrows), domain = NA)"
     ]
    }
   ],
   "source": [
    "df_analysis = data.frame()\n",
    "\n",
    "for (i in names(df)) {\n",
    "    df_analysis$i_null = sum(is.na(df$names))\n",
    "}"
   ]
  },
  {
   "cell_type": "code",
   "execution_count": 11,
   "metadata": {},
   "outputs": [
    {
     "data": {
      "text/plain": [
       "  building_id         meter                      timestamp       \n",
       " Min.   :   0.0   Min.   :0.0000   2016-12-27 22:00:00:    2370  \n",
       " 1st Qu.: 393.0   1st Qu.:0.0000   2016-12-27 17:00:00:    2369  \n",
       " Median : 895.0   Median :0.0000   2016-12-27 19:00:00:    2369  \n",
       " Mean   : 799.3   Mean   :0.6624   2016-12-27 20:00:00:    2369  \n",
       " 3rd Qu.:1179.0   3rd Qu.:1.0000   2016-12-27 21:00:00:    2369  \n",
       " Max.   :1448.0   Max.   :3.0000   2016-12-12 21:00:00:    2368  \n",
       "                                   (Other)            :20201886  \n",
       " meter_reading     \n",
       " Min.   :       0  \n",
       " 1st Qu.:      18  \n",
       " Median :      79  \n",
       " Mean   :    2117  \n",
       " 3rd Qu.:     268  \n",
       " Max.   :21904700  \n",
       "                   "
      ]
     },
     "metadata": {},
     "output_type": "display_data"
    }
   ],
   "source": [
    "summary(df)"
   ]
  },
  {
   "cell_type": "code",
   "execution_count": 12,
   "metadata": {},
   "outputs": [
    {
     "data": {
      "text/plain": [
       "    site_id                     timestamp      air_temperature  cloud_coverage \n",
       " Min.   : 0.000   2016-01-01 01:00:00:    16   Min.   :-28.90   Min.   :0.00   \n",
       " 1st Qu.: 3.000   2016-01-01 02:00:00:    16   1st Qu.:  7.20   1st Qu.:0.00   \n",
       " Median : 7.000   2016-01-01 03:00:00:    16   Median : 15.00   Median :2.00   \n",
       " Mean   : 7.479   2016-01-01 12:00:00:    16   Mean   : 14.42   Mean   :2.15   \n",
       " 3rd Qu.:11.000   2016-01-01 13:00:00:    16   3rd Qu.: 22.20   3rd Qu.:4.00   \n",
       " Max.   :15.000   2016-01-01 14:00:00:    16   Max.   : 47.20   Max.   :9.00   \n",
       "                  (Other)            :139677   NA's   :55       NA's   :69173  \n",
       " dew_temperature  precip_depth_1_hr sea_level_pressure wind_direction \n",
       " Min.   :-35.00   Min.   : -1.00    Min.   : 968.2     Min.   :  0.0  \n",
       " 1st Qu.:  0.60   1st Qu.:  0.00    1st Qu.:1011.8     1st Qu.: 80.0  \n",
       " Median :  8.30   Median :  0.00    Median :1016.4     Median :190.0  \n",
       " Mean   :  7.35   Mean   :  0.98    Mean   :1016.2     Mean   :180.5  \n",
       " 3rd Qu.: 14.40   3rd Qu.:  0.00    3rd Qu.:1020.8     3rd Qu.:280.0  \n",
       " Max.   : 26.10   Max.   :343.00    Max.   :1045.5     Max.   :360.0  \n",
       " NA's   :113      NA's   :50289     NA's   :10618      NA's   :6268   \n",
       "   wind_speed    \n",
       " Min.   : 0.000  \n",
       " 1st Qu.: 2.100  \n",
       " Median : 3.100  \n",
       " Mean   : 3.561  \n",
       " 3rd Qu.: 5.000  \n",
       " Max.   :19.000  \n",
       " NA's   :304     "
      ]
     },
     "metadata": {},
     "output_type": "display_data"
    }
   ],
   "source": [
    "summary(weather)"
   ]
  }
 ],
 "metadata": {
  "kernelspec": {
   "display_name": "R",
   "language": "R",
   "name": "ir"
  },
  "language_info": {
   "codemirror_mode": "r",
   "file_extension": ".r",
   "mimetype": "text/x-r-source",
   "name": "R",
   "pygments_lexer": "r",
   "version": "3.6.1"
  }
 },
 "nbformat": 4,
 "nbformat_minor": 4
}
